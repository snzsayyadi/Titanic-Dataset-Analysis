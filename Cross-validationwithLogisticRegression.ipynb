{
 "cells": [
  {
   "cell_type": "code",
   "execution_count": null,
   "id": "d1180793",
   "metadata": {},
   "outputs": [],
   "source": [
    "import pandas as pd\n",
    "import numpy as np\n",
    "from sklearn.model_selection import cross_val_score, cross_validate, StratifiedKFold\n",
    "from sklearn.linear_model import LogisticRegression\n",
    "from sklearn.preprocessing import StandardScaler\n",
    "from sklearn.metrics import make_scorer, precision_score, recall_score, f1_score\n",
    "\n",
    "# Load dataset\n",
    "df = pd.read_csv(\"titanic.csv\")\n",
    "\n",
    "# Handle missing values\n",
    "df[\"Age\"].fillna(df[\"Age\"].median(), inplace=True)\n",
    "df[\"Embarked\"].fillna(df[\"Embarked\"].mode()[0], inplace=True)\n",
    "df.drop(columns=[\"Cabin\"], inplace=True)\n",
    "\n",
    "# Feature Engineering\n",
    "df[\"FamilySize\"] = df[\"SibSp\"] + df[\"Parch\"] + 1\n",
    "df[\"IsAlone\"] = (df[\"FamilySize\"] == 1).astype(int)\n",
    "df[\"Title\"] = df[\"Name\"].str.extract(\" ([A-Za-z]+)\\.\", expand=False)\n",
    "df[\"Title\"] = df[\"Title\"].replace([\"Mlle\", \"Ms\"], \"Miss\").replace([\"Mme\"], \"Mrs\")\n",
    "rare_titles = df[\"Title\"].value_counts()[df[\"Title\"].value_counts() < 10].index\n",
    "df[\"Title\"] = df[\"Title\"].replace(rare_titles, \"Other\")\n",
    "\n",
    "# Encoding\n",
    "df = pd.get_dummies(df, columns=[\"Sex\", \"Embarked\", \"Title\"], drop_first=True)\n",
    "\n",
    "# Features and target\n",
    "X = df.drop(columns=[\"Survived\", \"PassengerId\", \"Name\", \"Ticket\"])\n",
    "y = df[\"Survived\"]\n",
    "\n",
    "# Scaling\n",
    "scaler = StandardScaler()\n",
    "X_scaled = scaler.fit_transform(X)\n",
    "\n",
    "# Model\n",
    "model = LogisticRegression(max_iter=1000)\n",
    "\n",
    "# Cross-validation setup\n",
    "scoring = {\"accuracy\": \"accuracy\",\"precision\": make_scorer(precision_score),\"recall\": make_scorer(recall_score),\n",
    "           \"f1\": make_scorer(f1_score)}\n",
    "cv = StratifiedKFold(n_splits=5, shuffle=True, random_state=42)\n",
    "\n",
    "results = cross_validate(model, X_scaled, y, cv=cv, scoring=scoring)\n",
    "\n",
    "# Print results\n",
    "for metric in scoring.keys():\n",
    "    print(f\"{metric.capitalize()} (per fold): {results['test_'+metric]}\")\n",
    "    print(f\"{metric.capitalize()} Mean: {results['test_'+metric].mean():.4f}\\n\")\n"
   ]
  },
  {
   "cell_type": "code",
   "execution_count": null,
   "id": "fb317eb9",
   "metadata": {},
   "outputs": [],
   "source": []
  }
 ],
 "metadata": {
  "kernelspec": {
   "display_name": "Python 3 (ipykernel)",
   "language": "python",
   "name": "python3"
  },
  "language_info": {
   "codemirror_mode": {
    "name": "ipython",
    "version": 3
   },
   "file_extension": ".py",
   "mimetype": "text/x-python",
   "name": "python",
   "nbconvert_exporter": "python",
   "pygments_lexer": "ipython3",
   "version": "3.11.4"
  }
 },
 "nbformat": 4,
 "nbformat_minor": 5
}
