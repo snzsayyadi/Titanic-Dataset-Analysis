{
 "cells": [
  {
   "cell_type": "code",
   "execution_count": null,
   "id": "cad2d28f",
   "metadata": {},
   "outputs": [],
   "source": [
    "import pandas as pd\n",
    "import numpy as np\n",
    "from sklearn.preprocessing import StandardScaler\n",
    "from sklearn.model_selection import train_test_split\n",
    "\n",
    "# 1. بارگذاری دیتاست\n",
    "df = pd.read_csv(\"titanic.csv\")\n",
    "\n",
    "# 2. جایگزینی مقادیر گمشده\n",
    "df[\"Age\"].fillna(df[\"Age\"].median(), inplace=True)\n",
    "df[\"Embarked\"].fillna(df[\"Embarked\"].mode()[0], inplace=True)\n",
    "df.drop(columns=[\"Cabin\"], inplace=True) \n",
    "df[\"Fare\"].fillna(df[\"Fare\"].mean(), inplace=True)\n",
    "\n",
    "# 3. Feature Engineering: ایجاد ویژگی های جدید\n",
    "df[\"FamilySize\"] = df[\"SibSp\"] + df[\"Parch\"] + 1\n",
    "df[\"IsAlone\"] = (df[\"FamilySize\"] == 1).astype(int)\n",
    "\n",
    "df[\"Title\"] = df[\"Name\"].str.extract(\" ([A-Za-z]+)\\.\", expand=False)\n",
    "df[\"Title\"] = df[\"Title\"].replace([\"Mlle\", \"Ms\"], \"Miss\").replace([\"Mme\"], \"Mrs\")\n",
    "rare_titles = df[\"Title\"].value_counts()[df[\"Title\"].value_counts() < 10].index\n",
    "df[\"Title\"] = df[\"Title\"].replace(rare_titles, \"Other\")\n",
    "\n",
    "# 4. Encoding داده های دسته ای\n",
    "df = pd.get_dummies(df, columns=[\"Sex\", \"Embarked\", \"Title\"], drop_first=True)\n",
    "\n",
    "# 5. Scaling داده های عددی\n",
    "scaler = StandardScaler()\n",
    "df[[\"Age\", \"Fare\", \"FamilySize\"]] = scaler.fit_transform(df[[\"Age\", \"Fare\", \"FamilySize\"]])\n",
    "\n",
    "# 6. ویژگی ها و هدف\n",
    "X = df.drop(columns=[\"Survived\", \"PassengerId\", \"Name\", \"Ticket\"])\n",
    "y = df[\"Survived\"]\n",
    "\n",
    "# 7. تقسیم داده به train و test\n",
    "X_train, X_test, y_train, y_test = train_test_split(X, y, test_size=0.2, random_state=42, stratify=y)\n",
    "\n",
    "# 8. نمایش نتیجه تغییرات\n",
    "print(\"✅ چند ردیف اول دیتاست بعد از Feature Engineering:\")\n",
    "print(df.head())\n"
   ]
  },
  {
   "cell_type": "code",
   "execution_count": null,
   "id": "0d4c62c6",
   "metadata": {},
   "outputs": [],
   "source": []
  }
 ],
 "metadata": {
  "kernelspec": {
   "display_name": "Python 3 (ipykernel)",
   "language": "python",
   "name": "python3"
  },
  "language_info": {
   "codemirror_mode": {
    "name": "ipython",
    "version": 3
   },
   "file_extension": ".py",
   "mimetype": "text/x-python",
   "name": "python",
   "nbconvert_exporter": "python",
   "pygments_lexer": "ipython3",
   "version": "3.11.4"
  }
 },
 "nbformat": 4,
 "nbformat_minor": 5
}
